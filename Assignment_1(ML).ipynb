{
  "nbformat": 4,
  "nbformat_minor": 0,
  "metadata": {
    "colab": {
      "provenance": []
    },
    "kernelspec": {
      "name": "python3",
      "display_name": "Python 3"
    },
    "language_info": {
      "name": "python"
    }
  },
  "cells": [
    {
      "cell_type": "markdown",
      "source": [
        "# Ass 1"
      ],
      "metadata": {
        "id": "qYjrOVIxUq9i"
      }
    },
    {
      "cell_type": "markdown",
      "source": [
        "### Ques1"
      ],
      "metadata": {
        "id": "qA22qz51VIQ9"
      }
    },
    {
      "cell_type": "code",
      "source": [
        "import numpy as np"
      ],
      "metadata": {
        "id": "Esdb1DJSIfC9"
      },
      "execution_count": null,
      "outputs": []
    },
    {
      "cell_type": "code",
      "execution_count": null,
      "metadata": {
        "colab": {
          "base_uri": "https://localhost:8080/"
        },
        "id": "6bvKwWBOEYyW",
        "outputId": "4d45d39a-249a-49c2-b6b8-e05ac5aa8ede"
      },
      "outputs": [
        {
          "output_type": "stream",
          "name": "stdout",
          "text": [
            "[5 4 3 2 1]\n",
            "[5 4 3 2 1]\n",
            "[1 2 3 2 4 5 1 2 3]\n",
            "[[1 2 3]\n",
            " [2 4 5]\n",
            " [1 2 3]]\n",
            "True\n",
            "For x:\n",
            "Most frequent value: 1\n",
            "Indices: [0 5 7 8 9]\n",
            "\n",
            "For y:\n",
            "Most frequent value: 1\n",
            "Indices: [0 1 2]\n",
            "\n",
            "For gfg matrix:\n",
            "Sum of all elements: 45\n",
            "Sum row-wise: [[14]\n",
            " [16]\n",
            " [15]]\n",
            "Sum column-wise: [[20  9 16]]\n",
            "\n",
            "For n_array matrix:\n",
            "Sum of diagonal elements: 176\n",
            "Eigen values: [98.16835147 28.097044   49.73460452]\n",
            "Eigen vectors:\n",
            " [[ 0.4574917   0.34637121 -0.15017693]\n",
            " [ 0.28447814 -0.72784061 -0.4852124 ]\n",
            " [ 0.84248058  0.59184038  0.8614034 ]]\n",
            "Inverse of matrix:\n",
            " [[ 0.02404141 -0.00911212 -0.00444671]\n",
            " [-0.01667882  0.02966905  0.0024785 ]\n",
            " [ 0.00631287 -0.01603732  0.01217379]]\n",
            "Determinant of matrix: 137180.0000000001\n",
            "\n",
            "Matrix multiplication and covariance:\n",
            "i. Product:\n",
            " [[16 19]\n",
            " [26 31]]\n",
            "i. Covariance:\n",
            " [[0.66666667 1.        ]\n",
            " [1.         1.66666667]]\n",
            "\n",
            "ii. Product:\n",
            " [[16 19  5]\n",
            " [26 31  8]\n",
            " [46 55 14]]\n",
            "ii. Covariance:\n",
            " [[2.16666667 0.23333333]\n",
            " [0.23333333 5.36666667]]\n",
            "\n",
            "For matrices x and y:\n",
            "Inner product:\n",
            " [[17 52]\n",
            " [13 62]]\n",
            "Outer product:\n",
            " [[ 2 10  0 10 20  6]\n",
            " [ 3 15  0 15 30  9]\n",
            " [ 4 20  0 20 40 12]\n",
            " [ 3 15  0 15 30  9]\n",
            " [ 2 10  0 10 20  6]\n",
            " [ 9 45  0 45 90 27]]\n",
            "Cartesian product shape: (4, 2, 3)\n",
            "Cartesian product (first few pairs):\n",
            " [[[ 2  3  4]\n",
            "  [ 1  5  0]]\n",
            "\n",
            " [[ 2  3  4]\n",
            "  [ 5 10  3]]\n",
            "\n",
            " [[ 3  2  9]\n",
            "  [ 1  5  0]]\n",
            "\n",
            " [[ 3  2  9]\n",
            "  [ 5 10  3]]]\n"
          ]
        }
      ],
      "source": [
        "#a reverse array\n",
        "arr = np.array([1, 2, 3, 4, 5])\n",
        "print(np.flip(arr))\n",
        "print(arr[::-1])\n",
        "\n",
        "#b flatten the array\n",
        "arr1 = np.array([[1,2,3], [2,4,5], [1,2,3]])\n",
        "print(arr1.flatten())\n",
        "print(arr1.reshape(3,3))\n",
        "\n",
        "#c compare\n",
        "a1 = np.array([[1,2],[3,4]])\n",
        "a2 = np.array([[1,2],[3,4]])\n",
        "print(np.array_equal(a1,a2))\n",
        "\n",
        "#d most freq value and their indices\n",
        "x = np.array([1,2,3,4,5,1,2,1,1,1])\n",
        "values, counts = np.unique(x, return_counts=True)\n",
        "most_freq_val = values[np.argmax(counts)]\n",
        "indices = np.where(x == most_freq_val)[0]\n",
        "print(\"For x:\")\n",
        "print(\"Most frequent value:\", most_freq_val)\n",
        "print(\"Indices:\", indices)\n",
        "y = np.array([1, 1, 1, 2, 3, 4, 2, 4, 3, 3, ])\n",
        "values, counts = np.unique(y, return_counts=True)\n",
        "most_freq_val = values[np.argmax(counts)]\n",
        "indices = np.where(y == most_freq_val)[0]\n",
        "print(\"\\nFor y:\")\n",
        "print(\"Most frequent value:\", most_freq_val)\n",
        "print(\"Indices:\", indices)\n",
        "\n",
        "#e find sums\n",
        "\n",
        "gfg = np.matrix('[4, 1, 9; 12, 3, 1; 4, 5, 6]')\n",
        "total_sum = gfg.sum()\n",
        "row_sum = gfg.sum(axis=1)\n",
        "col_sum = gfg.sum(axis=0)\n",
        "\n",
        "print(\"\\nFor gfg matrix:\")\n",
        "print(\"Sum of all elements:\", total_sum)\n",
        "print(\"Sum row-wise:\", row_sum)\n",
        "print(\"Sum column-wise:\", col_sum)\n",
        "\n",
        "#f matrix\n",
        "n_array = np.array([[55, 25, 15], [30, 44, 2], [11, 45, 77]])\n",
        "diag_sum = np.trace(n_array)\n",
        "eig_vals, eig_vecs = np.linalg.eig(n_array)\n",
        "inv_matrix = np.linalg.inv(n_array)\n",
        "det_matrix = np.linalg.det(n_array)\n",
        "\n",
        "print(\"\\nFor n_array matrix:\")\n",
        "print(\"Sum of diagonal elements:\", diag_sum)\n",
        "print(\"Eigen values:\", eig_vals)\n",
        "print(\"Eigen vectors:\\n\", eig_vecs)\n",
        "print(\"Inverse of matrix:\\n\", inv_matrix)\n",
        "print(\"Determinant of matrix:\", det_matrix)\n",
        "\n",
        "#g Multiply matrices and co variance\n",
        "# i.\n",
        "p1 = np.array([[1, 2], [2, 3]])\n",
        "q1 = np.array([[4, 5], [6, 7]])\n",
        "product1 = np.matmul(p1, q1)\n",
        "covariance1 = np.cov(p1.flatten(), q1.flatten())\n",
        "# ii.\n",
        "p2 = np.array([[1, 2], [2, 3], [4, 5]])\n",
        "q2 = np.array([[4, 5, 1], [6, 7, 2]])\n",
        "product2 = np.matmul(p2, q2)\n",
        "covariance2 = np.cov(p2.flatten(), q2.flatten())\n",
        "\n",
        "print(\"\\nMatrix multiplication and covariance:\")\n",
        "print(\"i. Product:\\n\", product1)\n",
        "print(\"i. Covariance:\\n\", covariance1)\n",
        "print(\"\\nii. Product:\\n\", product2)\n",
        "print(\"ii. Covariance:\\n\", covariance2)\n",
        "\n",
        "#h products\n",
        "\n",
        "x = np.array([[2, 3, 4], [3, 2, 9]])\n",
        "y = np.array([[1, 5, 0], [5, 10, 3]])\n",
        "\n",
        "# Inner product: sum of products of elements at corresponding positions\n",
        "inner_product = np.inner(x, y)\n",
        "\n",
        "# Outer product: for 1D arrays, but here we'll flatten first\n",
        "outer_product = np.outer(x.flatten(), y.flatten())\n",
        "\n",
        "# Cartesian product: all pairs of rows from x and y combined\n",
        "cartesian_product = np.array([(a, b) for a in x for b in y])\n",
        "\n",
        "print(\"\\nFor matrices x and y:\")\n",
        "print(\"Inner product:\\n\", inner_product)\n",
        "print(\"Outer product:\\n\", outer_product)\n",
        "print(\"Cartesian product shape:\", cartesian_product.shape)\n",
        "print(\"Cartesian product (first few pairs):\\n\", cartesian_product[:4])\n",
        "\n",
        "\n"
      ]
    },
    {
      "cell_type": "markdown",
      "source": [
        "##Ques 2"
      ],
      "metadata": {
        "id": "DTK5d0asIpBJ"
      }
    },
    {
      "cell_type": "code",
      "source": [
        "#a\n",
        "array = np.array([[1, -2, 3], [-4, 5, -6]])\n",
        "\n",
        "# i. Element-wise absolute value\n",
        "abs_array = np.abs(array)\n",
        "\n",
        "# ii. Percentiles (25th, 50th, 75th)\n",
        "# Flattened array percentiles\n",
        "percentiles_flat = np.percentile(array, [25, 50, 75])\n",
        "\n",
        "# Percentiles for each column\n",
        "percentiles_col = np.percentile(array, [25, 50, 75], axis=0)\n",
        "\n",
        "# Percentiles for each row\n",
        "percentiles_row = np.percentile(array, [25, 50, 75], axis=1)\n",
        "\n",
        "# iii. Mean, Median, Standard Deviation\n",
        "# Flattened\n",
        "mean_flat = np.mean(array)\n",
        "median_flat = np.median(array)\n",
        "std_flat = np.std(array)\n",
        "\n",
        "# For each column\n",
        "mean_col = np.mean(array, axis=0)\n",
        "median_col = np.median(array, axis=0)\n",
        "std_col = np.std(array, axis=0)\n",
        "\n",
        "# For each row\n",
        "mean_row = np.mean(array, axis=1)\n",
        "median_row = np.median(array, axis=1)\n",
        "std_row = np.std(array, axis=1)\n",
        "\n",
        "print(\"Element-wise absolute value:\\n\", abs_array)\n",
        "print(\"\\nPercentiles (25th, 50th, 75th) of flattened array:\", percentiles_flat)\n",
        "print(\"Percentiles for each column:\\n\", percentiles_col)\n",
        "print(\"Percentiles for each row:\\n\", percentiles_row)\n",
        "\n",
        "print(\"\\nMean, Median, Std of flattened array:\", mean_flat, median_flat, std_flat)\n",
        "print(\"Mean for each column:\", mean_col)\n",
        "print(\"Median for each column:\", median_col)\n",
        "print(\"Std for each column:\", std_col)\n",
        "print(\"Mean for each row:\", mean_row)\n",
        "print(\"Median for each row:\", median_row)\n",
        "print(\"Std for each row:\", std_row)\n"
      ],
      "metadata": {
        "id": "LTGeUGPJIrZu",
        "colab": {
          "base_uri": "https://localhost:8080/"
        },
        "outputId": "cd33527c-16db-4cf3-8fe3-e8f64bba82e1"
      },
      "execution_count": 14,
      "outputs": [
        {
          "output_type": "stream",
          "name": "stdout",
          "text": [
            "Element-wise absolute value:\n",
            " [[1 2 3]\n",
            " [4 5 6]]\n",
            "\n",
            "Percentiles (25th, 50th, 75th) of flattened array: [-3.5 -0.5  2.5]\n",
            "Percentiles for each column:\n",
            " [[-2.75 -0.25 -3.75]\n",
            " [-1.5   1.5  -1.5 ]\n",
            " [-0.25  3.25  0.75]]\n",
            "Percentiles for each row:\n",
            " [[-0.5 -5. ]\n",
            " [ 1.  -4. ]\n",
            " [ 2.   0.5]]\n",
            "\n",
            "Mean, Median, Std of flattened array: -0.5 -0.5 3.8622100754188224\n",
            "Mean for each column: [-1.5  1.5 -1.5]\n",
            "Median for each column: [-1.5  1.5 -1.5]\n",
            "Std for each column: [2.5 3.5 4.5]\n",
            "Mean for each row: [ 0.66666667 -1.66666667]\n",
            "Median for each row: [ 1. -4.]\n",
            "Std for each row: [2.05480467 4.78423336]\n"
          ]
        }
      ]
    },
    {
      "cell_type": "code",
      "source": [
        "#b\n",
        "a = np.array([-1.8, -1.6, -0.5, 0.5, 1.6, 1.8, 3.0])\n",
        "\n",
        "floor_values = np.floor(a)\n",
        "ceil_values = np.ceil(a)\n",
        "trunc_values = np.trunc(a)\n",
        "round_values = np.round(a)\n",
        "\n",
        "print(\"\\nFloor values:\", floor_values)\n",
        "print(\"Ceiling values:\", ceil_values)\n",
        "print(\"Truncated values:\", trunc_values)\n",
        "print(\"Rounded values:\", round_values)"
      ],
      "metadata": {
        "id": "qwDvJx2oJA9I",
        "colab": {
          "base_uri": "https://localhost:8080/"
        },
        "outputId": "4b79ed27-ad48-4f6d-8363-70202faec8d2"
      },
      "execution_count": 13,
      "outputs": [
        {
          "output_type": "stream",
          "name": "stdout",
          "text": [
            "\n",
            "Floor values: [-2. -2. -1.  0.  1.  1.  3.]\n",
            "Ceiling values: [-1. -1. -0.  1.  2.  2.  3.]\n",
            "Truncated values: [-1. -1. -0.  0.  1.  1.  3.]\n",
            "Rounded values: [-2. -2. -0.  0.  2.  2.  3.]\n"
          ]
        }
      ]
    },
    {
      "cell_type": "markdown",
      "source": [
        "##Ques3"
      ],
      "metadata": {
        "id": "ueLWRbaKJE3p"
      }
    },
    {
      "cell_type": "code",
      "source": [
        "#a\n",
        "array = np.array([10, 52, 62, 16, 16, 54, 453])\n",
        "\n",
        "# i. Sorted array\n",
        "sorted_array = np.sort(array)\n",
        "\n",
        "# ii. Indices of sorted array\n",
        "sorted_indices = np.argsort(array)\n",
        "\n",
        "# iii. 4 smallest elements\n",
        "smallest_4 = np.partition(array, 3)[:4]\n",
        "\n",
        "# iv. 5 largest elements\n",
        "largest_5 = np.partition(array, -5)[-5:]\n",
        "largest_5_sorted = np.sort(largest_5)  # Optional: sorted largest 5\n",
        "\n",
        "print(\"Sorted array:\", sorted_array)\n",
        "print(\"Indices of sorted array:\", sorted_indices)\n",
        "print(\"4 smallest elements:\", smallest_4)\n",
        "print(\"5 largest elements:\", largest_5_sorted)\n"
      ],
      "metadata": {
        "id": "LsKfAC9vJIKG",
        "colab": {
          "base_uri": "https://localhost:8080/"
        },
        "outputId": "44689532-7b2d-4b8a-a113-e45c817346eb"
      },
      "execution_count": 12,
      "outputs": [
        {
          "output_type": "stream",
          "name": "stdout",
          "text": [
            "Sorted array: [ 10  16  16  52  54  62 453]\n",
            "Indices of sorted array: [0 3 4 1 5 2 6]\n",
            "4 smallest elements: [10 16 16 52]\n",
            "5 largest elements: [ 16  52  54  62 453]\n"
          ]
        }
      ]
    },
    {
      "cell_type": "code",
      "source": [
        "#b\n",
        "array = np.array([1.0, 1.2, 2.2, 2.0, 3.0, 2.0])\n",
        "\n",
        "# i. Integer elements only (checking if float values are whole numbers)\n",
        "integer_elements = array[array == np.floor(array)]\n",
        "\n",
        "# ii. Float elements only (non-integers)\n",
        "float_elements = array[array != np.floor(array)]\n",
        "\n",
        "print(\"\\nInteger elements only:\", integer_elements)\n",
        "print(\"Float elements only:\", float_elements)"
      ],
      "metadata": {
        "id": "w-aHXGreJTN0",
        "colab": {
          "base_uri": "https://localhost:8080/"
        },
        "outputId": "30c801e2-0ded-474b-a3a4-9064bf1e5aa4"
      },
      "execution_count": 11,
      "outputs": [
        {
          "output_type": "stream",
          "name": "stdout",
          "text": [
            "\n",
            "Integer elements only: [1. 2. 3. 2.]\n",
            "Float elements only: [1.2 2.2]\n"
          ]
        }
      ]
    },
    {
      "cell_type": "markdown",
      "source": [
        "##Ques 4"
      ],
      "metadata": {
        "id": "0QzJIEv1JWQD"
      }
    },
    {
      "cell_type": "code",
      "source": [
        "#a Function img_to_array(path):\n",
        "from PIL import Image\n",
        "import numpy as np\n",
        "\n",
        "def img_to_array(path):\n",
        "    # Open image\n",
        "    img = Image.open(path)\n",
        "\n",
        "    # Convert to numpy array\n",
        "    arr = np.array(img)\n",
        "\n",
        "    # Convert to grayscale if it's an RGB image with R=G=B\n",
        "    if len(arr.shape) == 3 and arr.shape[2] == 3:\n",
        "        if (arr[:, :, 0] == arr[:, :, 1]).all() and (arr[:, :, 0] == arr[:, :, 2]).all():\n",
        "            arr = arr[:, :, 0] # Convert to 2D grayscale array\n",
        "\n",
        "    # Check if image is grayscale or RGB\n",
        "    if len(arr.shape) == 2 or (len(arr.shape) == 3 and arr.shape[2] == 1):\n",
        "        # Grayscale image\n",
        "        filename = \"grayscale_image.txt\"\n",
        "        np.savetxt(filename, arr, fmt='%d')\n",
        "        print(f\"Grayscale image saved as {filename}\")\n",
        "    elif len(arr.shape) == 3 and arr.shape[2] == 3:\n",
        "        # RGB image\n",
        "        filename = \"rgb_image.txt\"\n",
        "        # Save as flattened array with shape info\n",
        "        # Save shape in first line, then flatten array values\n",
        "        with open(filename, 'w') as f:\n",
        "            # Write shape\n",
        "            f.write(f\"{arr.shape[0]} {arr.shape[1]} {arr.shape[2]}\\n\")\n",
        "            # Write flattened pixel data\n",
        "            flat_arr = arr.reshape(-1, 3)\n",
        "            np.savetxt(f, flat_arr, fmt='%d')\n",
        "        print(f\"RGB image saved as {filename}\")\n",
        "    else:\n",
        "        print(\"Unsupported image format\")\n",
        "\n",
        "# Example usage:\n",
        "img_to_array('/content/greypar.png')\n",
        "img_to_array('/content/random.jpg')"
      ],
      "metadata": {
        "colab": {
          "base_uri": "https://localhost:8080/"
        },
        "id": "k4i_MzRrJXq8",
        "outputId": "5b277c92-092f-4272-d98e-6c26f97cd6ad"
      },
      "execution_count": 9,
      "outputs": [
        {
          "output_type": "stream",
          "name": "stdout",
          "text": [
            "Grayscale image saved as grayscale_image.txt\n",
            "RGB image saved as rgb_image.txt\n"
          ]
        }
      ]
    },
    {
      "cell_type": "code",
      "source": [
        "#b  Load the saved file into Jupyter Notebook:\n",
        "def load_image_array(filename):\n",
        "    try:\n",
        "        with open(filename, 'r') as f:\n",
        "            first_line = f.readline().strip()\n",
        "            dims = first_line.split()\n",
        "\n",
        "            if len(dims) == 3:\n",
        "                # RGB image\n",
        "                rows, cols, channels = map(int, dims)\n",
        "                data = np.loadtxt(f, dtype=int)\n",
        "                arr = data.reshape((rows, cols, channels))\n",
        "                print(\"Loaded RGB image array with shape:\", arr.shape)\n",
        "                return arr\n",
        "            else:\n",
        "                # Grayscale image\n",
        "                # Reset file pointer to start\n",
        "                f.seek(0)\n",
        "                arr = np.loadtxt(f, dtype=int)\n",
        "                print(\"Loaded Grayscale image array with shape:\", arr.shape)\n",
        "                return arr\n",
        "    except FileNotFoundError:\n",
        "        print(f\"Error: The file '{filename}' was not found.\")\n",
        "        return None\n",
        "\n",
        "# Example usage:\n",
        "gray_arr = load_image_array('grayscale_image.txt')\n",
        "rgb_arr = load_image_array('rgb_image.txt')"
      ],
      "metadata": {
        "colab": {
          "base_uri": "https://localhost:8080/"
        },
        "id": "iAHrgTUZJnYv",
        "outputId": "a266ef79-0117-47f2-8c0a-4631d0fb8560"
      },
      "execution_count": 10,
      "outputs": [
        {
          "output_type": "stream",
          "name": "stdout",
          "text": [
            "Loaded Grayscale image array with shape: (512, 768)\n",
            "Loaded RGB image array with shape: (444, 787, 3)\n"
          ]
        }
      ]
    }
  ]
}